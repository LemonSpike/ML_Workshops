{
 "cells": [
  {
   "cell_type": "markdown",
   "metadata": {},
   "source": [
    "## What is machine learning?\n",
    "\n",
    "### Three types of Machine Learning\n",
    "\n",
    "There are three distinct problems within the Machine Learning field.\n",
    "\n",
    "Unsupervised learning - Where we only have an input and try to model the distribution in order to better understand the underlying structure of it. E.g. we have census data and try to split segment people into different unknown categories\n",
    "\n",
    "Reinforcement Learning - We have an agent in an evironment and it has to learn what actions to take to maximize the reward. E.g. we are trying to get an algorithm to learn how to win at tic-tac-toe autonomously\n",
    "\n",
    "**Supervised Learning**- Where we create to model that can predict an output from a input, given examples of input-output pairs. E.g. we take as input different features about a house such as location, number of rooms, etc and try to predict the price. \n",
    "\n",
    "This is the paradigm we will be implementing in this notebook.\n",
    "\n",
    "\n",
    "Inputs and outputs can take different forms.<br>\n",
    "Other examples of supervised learning include:\n",
    "\n",
    "- Taking in an image as input and outputting the probability that there is a car in the image\n",
    "- Taking in a sequence of words and outputting a probability distribution over the next word\n",
    "\n",
    "\n",
    "Common synonyms\n",
    "- Loss, cost, criterion\n",
    "- Input, Features\n",
    "- Output, Label"
   ]
  },
  {
   "cell_type": "markdown",
   "metadata": {},
   "source": [
    "### What does data look like?"
   ]
  },
  {
   "cell_type": "markdown",
   "metadata": {},
   "source": [
    "![image](images/NN1_xy.JPG)\n",
    "\n",
    "Lets create a function that generates some artificial data. <br>The function should return any noisy linear data of size *m* which is a parameter of the function. <br>Although data collected in the real world often has much more complex correlations, linear functions are good simple function that we can test our learning algorithms."
   ]
  },
  {
   "cell_type": "code",
   "execution_count": 27,
   "metadata": {},
   "outputs": [
    {
     "data": {
      "image/png": "[encoded data removed]",
      "text/plain": [
       "<Figure size 432x288 with 1 Axes>"
      ]
     },
     "metadata": {
      "needs_background": "light"
     },
     "output_type": "display_data"
    }
   ],
   "source": [
    "import numpy as np\n",
    "import matplotlib.pyplot as plt\n",
    "\n",
    "def sample_linear_data(m=20): \n",
    "    ground_truth_w = 2.3 # slope\n",
    "    ground_truth_b = -8 #intercept\n",
    "    X = np.random.randn(m)\n",
    "    Y = ground_truth_w * X + ground_truth_b\n",
    "    return X, Y #returns X (the input) and Y (labels)\n",
    "\n",
    "def plot_data(X, Y):\n",
    "    plt.figure()\n",
    "    plt.scatter(X, Y, c='r')\n",
    "    plt.xlabel('X')\n",
    "    plt.ylabel('Y')\n",
    "    plt.show()\n",
    "X, Y = sample_linear_data()\n",
    "plot_data(X, Y)"
   ]
  },
  {
   "cell_type": "markdown",
   "metadata": {},
   "source": [
    "### What does a model look like?"
   ]
  },
  {
   "cell_type": "markdown",
   "metadata": {},
   "source": [
    "Lets create our own model and use it to make a prediction on our data.<br>\n",
    "We will be using a linear model which has a single weight and bias.<br>\n",
    "![title](images/NN1_singlevar_lr_equation.JPG)"
   ]
  },
  {
   "cell_type": "code",
   "execution_count": 17,
   "metadata": {},
   "outputs": [],
   "source": [
    "class LinearHypothesis:\n",
    "    def __init__(self): #initalize parameters \n",
    "        self.w = np.random.randn() #weight\n",
    "        self.b = np.random.randn() #bias\n",
    "    def __call__(self, X): #how do we calculate output from an input in our model?\n",
    "        y_hat = self.w * X + self.b\n",
    "        return y_hat\n",
    "    def update_params(self, new_w, new_b):\n",
    "        self.w = new_w\n",
    "        self.b = new_b"
   ]
  },
  {
   "cell_type": "code",
   "execution_count": 18,
   "metadata": {},
   "outputs": [
    {
     "name": "stdout",
     "output_type": "stream",
     "text": [
      "Input: [ 0.77823021  0.10681057  0.16109618  1.66670048  0.92637827 -0.67980531\n",
      "  0.77129068  0.31713318  0.24089453 -0.12142277  1.18606828 -1.41124459\n",
      " -0.41374611 -0.7672198  -0.44699236 -0.97318483 -0.40862095 -0.91310626\n",
      "  0.60880015 -0.31649565] \n",
      "\n",
      "W: -0.6112119965174332 B: -0.5144616135796598 \n",
      "\n",
      "Prediction: [-0.99012526 -0.57974552 -0.61292553 -1.53316894 -1.08067513 -0.09895645\n",
      " -0.98588373 -0.70829722 -0.66169924 -0.44024656 -1.23940077  0.34810801\n",
      " -0.26157503 -0.04552766 -0.24125452  0.08036063 -0.26470759  0.04363989\n",
      " -0.88656757 -0.32101568] \n",
      "\n"
     ]
    }
   ],
   "source": [
    "H = LinearHypothesis()\n",
    "y_hat = H(X)\n",
    "print('Input:',X, '\\n')\n",
    "print('W:', H.w, 'B:', H.b, '\\n')\n",
    "print('Prediction:', y_hat, '\\n')"
   ]
  },
  {
   "cell_type": "markdown",
   "metadata": {},
   "source": [
    "#### Lets visualise our hypothesis vs the labels"
   ]
  },
  {
   "cell_type": "code",
   "execution_count": 19,
   "metadata": {},
   "outputs": [],
   "source": [
    "def plot_h_vs_y(X, y_hat, Y):\n",
    "    plt.figure()\n",
    "    plt.scatter(X, Y, c='r', label='Label')\n",
    "    plt.scatter(X, y_hat, c='b', label='Hypothesis', marker='x')\n",
    "    plt.legend()\n",
    "    plt.xlabel('X')\n",
    "    plt.ylabel('Y')\n",
    "    plt.show()"
   ]
  },
  {
   "cell_type": "code",
   "execution_count": 20,
   "metadata": {},
   "outputs": [
    {
     "data": {
      "image/png": "[encoded data removed]",
      "text/plain": [
       "<Figure size 432x288 with 1 Axes>"
      ]
     },
     "metadata": {
      "needs_background": "light"
     },
     "output_type": "display_data"
    }
   ],
   "source": [
    "plot_h_vs_y(X, y_hat, Y)"
   ]
  },
  {
   "cell_type": "markdown",
   "metadata": {},
   "source": [
    "### How do we know how good our model is?"
   ]
  },
  {
   "cell_type": "markdown",
   "metadata": {},
   "source": [
    "Lets calculate the cost. In this case we will use mean squared_error.\n",
    "\n",
    "![title](images/NN1_cost_function.JPG)\n",
    "\n",
    "Complete the function below to return mean square cost."
   ]
  },
  {
   "cell_type": "code",
   "execution_count": 23,
   "metadata": {},
   "outputs": [],
   "source": [
    "def L(y_hat, labels):\n",
    "    cost = 1 / y_hat.shape[0] * np.sum(np.square(y_hat - labels))\n",
    "    return cost"
   ]
  },
  {
   "cell_type": "code",
   "execution_count": 24,
   "metadata": {},
   "outputs": [
    {
     "name": "stdout",
     "output_type": "stream",
     "text": [
      "60.560636458307215\n"
     ]
    }
   ],
   "source": [
    "cost = L(y_hat, Y)\n",
    "print(cost)"
   ]
  },
  {
   "cell_type": "markdown",
   "metadata": {},
   "source": [
    "### How can we find the right weight values for our model?\n",
    "\n",
    "#### Random Search\n",
    "\n",
    "![title](images/NN1_randomsearch.JPG)"
   ]
  },
  {
   "cell_type": "code",
   "execution_count": 31,
   "metadata": {},
   "outputs": [],
   "source": [
    "def random_search(n_samples):\n",
    "    best_weights = None\n",
    "    best_bias = None\n",
    "    lowest_cost=100000 #initialize it very high\n",
    "    for i in range(n_samples):\n",
    "        H.update_params(np.random.randn(), np.random.randn())\n",
    "        y_hat = H(X)\n",
    "        cost = L(y_hat, Y)\n",
    "        if cost < lowest_cost:\n",
    "            best_weights = H.w\n",
    "            best_bias = H.b\n",
    "            lowest_cost = cost\n",
    "        \n",
    "    print('Lowest cost of', lowest_cost, 'achieved with weight of', best_weights, 'and bias of', best_bias)\n",
    "    return lowest_cost, best_weights, best_bias"
   ]
  },
  {
   "cell_type": "code",
   "execution_count": 37,
   "metadata": {},
   "outputs": [
    {
     "name": "stdout",
     "output_type": "stream",
     "text": [
      "Lowest cost of 35.26443417402274 achieved with weight of 2.219533149144085 and bias of -2.0874144966801387\n"
     ]
    },
    {
     "data": {
      "image/png": "[encoded data removed]",
      "text/plain": [
       "<Figure size 432x288 with 1 Axes>"
      ]
     },
     "metadata": {
      "needs_background": "light"
     },
     "output_type": "display_data"
    }
   ],
   "source": [
    "lowest_cost, best_weights, best_bias = random_search(1000)\n",
    "H.update_params(best_weights, best_bias)\n",
    "plot_h_vs_y(X, H(X), Y)"
   ]
  },
  {
   "cell_type": "markdown",
   "metadata": {},
   "source": [
    "#### Grid Search\n",
    "![title](images/NN1_gridsearch.JPG)"
   ]
  },
  {
   "cell_type": "code",
   "execution_count": 45,
   "metadata": {},
   "outputs": [],
   "source": [
    "from itertools import permutations\n",
    "def generate_grid_search_values(n_params, n_samples=100, minval=-2.5, maxval=2.5):\n",
    "    grid_samples = [[]]\n",
    "    vals = np.full(n_params, minval)\n",
    "\n",
    "    n_samples = np.power(n_samples, 1/n_params).round()\n",
    "    param_values = np.linspace(minval, maxval, n_samples)\n",
    "    grid_samples = permutations(param_values, n_params)\n",
    "        \n",
    "    return grid_samples\n",
    "\n",
    "def grid_search(grid_search_values):\n",
    "    best_weights = None\n",
    "    best_bias = None\n",
    "    lowest_cost=100000 #initialize it very high\n",
    "    for search_val in grid_search_values:\n",
    "        H.update_params(search_val[0], search_val[1])\n",
    "        y_hat = H(X)\n",
    "        cost = L(y_hat, Y)\n",
    "        if cost<lowest_cost:\n",
    "            lowest_cost=cost\n",
    "            best_weights = H.w\n",
    "            best_bias = H.b\n",
    "    print('Lowest cost of', lowest_cost, 'achieved with weight of', best_weights, 'and bias of', best_bias)\n",
    "    return lowest_cost, best_weights, best_bias"
   ]
  },
  {
   "cell_type": "code",
   "execution_count": 46,
   "metadata": {},
   "outputs": [
    {
     "name": "stdout",
     "output_type": "stream",
     "text": [
      "Lowest cost of 29.59202053702008 achieved with weight of 2.5 and bias of -2.5\n"
     ]
    },
    {
     "data": {
      "image/png": "[encoded data removed]",
      "text/plain": [
       "<Figure size 432x288 with 1 Axes>"
      ]
     },
     "metadata": {
      "needs_background": "light"
     },
     "output_type": "display_data"
    }
   ],
   "source": [
    "grid_search_values = list(generate_grid_search_values(2, n_samples=1000))\n",
    "lowest_cost, best_weights, best_bias = grid_search(grid_search_values)\n",
    "H.update_params(best_weights, best_bias)\n",
    "plot_h_vs_y(X, H(X), Y)"
   ]
  },
  {
   "cell_type": "markdown",
   "metadata": {},
   "source": [
    "#### Gradient Descent"
   ]
  },
  {
   "cell_type": "markdown",
   "metadata": {},
   "source": [
    "Gradient descent is another optimization algorithm that we could use. We can use gradient descent when our model is a differentiable function. Linear functions are pretty simple to differentiate hence why we can use it here.\n",
    "\n",
    "The algorithm starts by randomly initializing our parameters. We then calculate the cost of those parameters and the derivative of our cost w.r.t each parameter. This tells us the direction of steepest ascent. We update each parameter value by taking a step in the opposite direction, proportional to the learning rate\n",
    "\n",
    "![title](images/NN1_grad_descent.JPG)\n",
    "\n",
    "When there is only one parameter, we have a loss curve as shown in the diagrams above. When we have more than one parameter, we have 3d loss surfaces which we perform descent on.\n",
    "\n",
    "Lets calculate the derivative of the parameters with respect to the loss for the linear function we are using.\n",
    "![title](images/NN1_single_grad_calc.JPG)\n",
    "\n",
    "Complete the function below to return the derivative of our loss w.r.t the weight and bias."
   ]
  },
  {
   "cell_type": "code",
   "execution_count": 51,
   "metadata": {},
   "outputs": [],
   "source": [
    "class LinearHypothesis:\n",
    "    def __init__(self): \n",
    "        self.w = np.random.randn() #weight\n",
    "        self.b = np.random.randn() #bias\n",
    "    def __call__(self, X): \n",
    "        y_hat = self.w*X + self.b\n",
    "        return y_hat\n",
    "    def update_params(self, new_w, new_b):\n",
    "        self.w = new_w\n",
    "        self.b = new_b\n",
    "    def calc_deriv(self, X, y_hat, labels): #what is the derivative?\n",
    "        dLdw = 2/y_hat.shape[0] * np.sum((y_hat - labels) * X)\n",
    "        dLdb = 2/y_hat.shape[0] * np.sum(y_hat - labels)\n",
    "        return dLdw, dLdb"
   ]
  },
  {
   "cell_type": "code",
   "execution_count": 60,
   "metadata": {},
   "outputs": [
    {
     "name": "stdout",
     "output_type": "stream",
     "text": [
      "-7.828661721085026 17.465779226034144\n"
     ]
    }
   ],
   "source": [
    "H = LinearHypothesis()\n",
    "y_hat = H(X)\n",
    "dLdw, dLdb = H.calc_deriv(X, y_hat, Y)\n",
    "print(dLdw, dLdb)"
   ]
  },
  {
   "cell_type": "markdown",
   "metadata": {},
   "source": [
    "Now that we can complete the derivatives, complete the train function below to iteratively improve our parameter estimes to minimize the cost"
   ]
  },
  {
   "cell_type": "code",
   "execution_count": 63,
   "metadata": {},
   "outputs": [],
   "source": [
    "num_epochs = 200\n",
    "learning_rate = 0.1\n",
    "H = LinearHypothesis()"
   ]
  },
  {
   "cell_type": "code",
   "execution_count": 68,
   "metadata": {},
   "outputs": [],
   "source": [
    "def train(num_epochs, X, Y, H, L, plot_cost_curve=False):\n",
    "    all_costs = []\n",
    "    for e in range(num_epochs):\n",
    "        y_hat = H(X)\n",
    "        cost = L(y_hat, Y)\n",
    "        H.w -= learning_rate * H.calc_deriv(X, y_hat, Y)[0]\n",
    "        H.b -= learning_rate * H.calc_deriv(X, y_hat, Y)[1]\n",
    "        all_costs.append(cost)\n",
    "    if plot_cost_curve:\n",
    "        plt.figure()\n",
    "        plt.ylabel('Cost')\n",
    "        plt.xlabel('Epoch')\n",
    "        plt.plot(all_costs)\n",
    "    print('Final cost:', cost)\n",
    "    print('Weight values:', H.w)\n",
    "    print('Bias values:', H.b)\n",
    "    return cost, H.w"
   ]
  },
  {
   "cell_type": "code",
   "execution_count": 69,
   "metadata": {},
   "outputs": [
    {
     "name": "stdout",
     "output_type": "stream",
     "text": [
      "Final cost: 7.651950780643815e-30\n",
      "Weight values: 2.3000000000000016\n",
      "Bias values: -7.999999999999997\n"
     ]
    },
    {
     "data": {
      "text/plain": [
       "(7.651950780643815e-30, 2.3000000000000016)"
      ]
     },
     "execution_count": 69,
     "metadata": {},
     "output_type": "execute_result"
    },
    {
     "data": {
      "image/png": "[encoded data removed]",
      "text/plain": [
       "<Figure size 432x288 with 1 Axes>"
      ]
     },
     "metadata": {
      "needs_background": "light"
     },
     "output_type": "display_data"
    }
   ],
   "source": [
    "train(num_epochs, X, Y, H, L, plot_cost_curve=True)"
   ]
  },
  {
   "cell_type": "code",
   "execution_count": 70,
   "metadata": {},
   "outputs": [
    {
     "data": {
      "image/png": "[encoded data removed]",
      "text/plain": [
       "<Figure size 432x288 with 1 Axes>"
      ]
     },
     "metadata": {
      "needs_background": "light"
     },
     "output_type": "display_data"
    }
   ],
   "source": [
    "plot_h_vs_y(X, H(X), Y)"
   ]
  },
  {
   "cell_type": "markdown",
   "metadata": {},
   "source": [
    "### Modelling more advanced functions\n",
    "Lets try fitting more complex curves than just a straight line.\n",
    "Complete the function below to return random polynomial data of a given order."
   ]
  },
  {
   "cell_type": "code",
   "execution_count": 79,
   "metadata": {},
   "outputs": [
    {
     "name": "stdout",
     "output_type": "stream",
     "text": [
      "X: [ 0.3740173  -0.53202371 -1.56800407  0.08624154  1.89172481 -2.12883977\n",
      " -0.25897203  0.23364905  1.57035528  0.28601478 -0.22060308  0.00886635\n",
      "  0.20360597 -0.75418739  0.56650826 -0.95783109  1.49221636 -1.01774374\n",
      " -1.08888407  0.53202278] \n",
      "\n",
      "Y: [  0.54518091   0.71649796   2.62380557   0.85184967 -14.064617\n",
      "   7.49178657   0.82809781   0.74582545  -8.36567558   0.68360762\n",
      "   0.84223819   0.87329096   0.77531147   0.69200348   0.06972039\n",
      "   0.80491152  -7.23942763   0.87329582   0.97953775   0.17416539] \n",
      "\n",
      "Ground truth coefficients: [ 0.87448881 -0.12155037 -1.51619735 -1.37128269] \n",
      "\n"
     ]
    },
    {
     "data": {
      "image/png": "[encoded data removed]",
      "text/plain": [
       "<Figure size 432x288 with 1 Axes>"
      ]
     },
     "metadata": {
      "needs_background": "light"
     },
     "output_type": "display_data"
    }
   ],
   "source": [
    "from numpy.polynomial import Polynomial\n",
    "def sample_polynomial_data(m=20, order=3):\n",
    "    coeffs = np.random.randn(order + 1)\n",
    "    X = np.random.randn(m)\n",
    "    Y = np.vectorize(Polynomial(coeffs))(X)\n",
    "    return X, Y, coeffs #returns X (the input), Y (labels) and coefficients for each power\n",
    "\n",
    "m = 20\n",
    "order=3\n",
    "X, Y, ground_truth_coeffs = sample_polynomial_data(m, order)\n",
    "print('X:',X, '\\n')\n",
    "print('Y:',Y, '\\n')\n",
    "print('Ground truth coefficients:', ground_truth_coeffs, '\\n')\n",
    "plot_data(X, Y)"
   ]
  },
  {
   "cell_type": "markdown",
   "metadata": {},
   "source": [
    "#### Linear fit\n",
    "As we can see below, our current model lacks the capacity to find a great fit for any polynomial higher than order 1. We call this high bias. To reduce the bias, we need to use a model with higher capacity.\n",
    "\n",
    "![title](images/NN1_bias.JPG)"
   ]
  },
  {
   "cell_type": "code",
   "execution_count": 80,
   "metadata": {},
   "outputs": [
    {
     "name": "stdout",
     "output_type": "stream",
     "text": [
      "Final cost: 5.718398832450449\n",
      "Weight values: -3.6742341297168477\n",
      "Bias values: -0.6903973849239465\n"
     ]
    },
    {
     "data": {
      "image/png": "[encoded data removed]",
      "text/plain": [
       "<Figure size 432x288 with 1 Axes>"
      ]
     },
     "metadata": {
      "needs_background": "light"
     },
     "output_type": "display_data"
    },
    {
     "data": {
      "image/png": "[encoded data removed]",
      "text/plain": [
       "<Figure size 432x288 with 1 Axes>"
      ]
     },
     "metadata": {
      "needs_background": "light"
     },
     "output_type": "display_data"
    }
   ],
   "source": [
    "num_epochs = 200\n",
    "learning_rate = 0.03\n",
    "H = LinearHypothesis()\n",
    "train(num_epochs, X, Y, H, L, plot_cost_curve=True)\n",
    "plot_h_vs_y(X, H(X), Y)"
   ]
  },
  {
   "cell_type": "markdown",
   "metadata": {},
   "source": [
    "#### Multi-variable Linear regression\n",
    "Lets change our model to a polynomial one. We can think of this as a specific case of the general multi variable linear regression problem, where we are passing in higher powers of x as extra input features to our model. Multi varible regression is when we have more than one input feature<br>\n",
    "Our X variable looks like this now since we have multiple input features\n",
    "\n",
    "![title](images/NN1_multi_x.JPG)\n",
    "\n",
    "Our weights become a vector as opposed to a single value\n",
    "\n",
    "![title](images/NN1_weights.JPG)\n",
    "\n",
    "The weights variable (w) becomes a row vector so we need to transpose it when we multiply it by the X matrix\n",
    "\n",
    "![title](images/NN1_lr_equation.JPG)\n",
    "\n",
    "Our gradient calculation changes slightly to account for the fact that we have more weights than one\n",
    "\n",
    "![title](images/NN1_multi_grad_calc.JPG)\n",
    "\n",
    "Change the \\_\\_call\\_\\_ and calc_deriv functions of the class below so it works for multiple input variables.<br>\n",
    "Also complete the create_polynomial_data function to return a copy of the original dataset with extra features which are the orginal x feature raised to higher powers.\n"
   ]
  },
  {
   "cell_type": "code",
   "execution_count": 116,
   "metadata": {},
   "outputs": [],
   "source": [
    "class MultiVariableLinearHypothesis:\n",
    "    def __init__(self, n_vars):\n",
    "        self.n_vars = n_vars\n",
    "        self.b = np.random.randn()\n",
    "        self.w = np.random.randn(n_vars)\n",
    "    def __call__(self, X): #input is of shape (n_datapoints, n_vars)\n",
    "        y_hat = np.matmul(X, self.w) + self.b\n",
    "        return y_hat #output is of shape (n_datapoints, 1)\n",
    "    def update_params(self, new_w, new_b):\n",
    "        self.w = new_w\n",
    "        self.b = new_b\n",
    "    def calc_deriv(self, X, y_hat, labels):\n",
    "        diffs = y_hat-labels\n",
    "        dLdw = (2/m)*np.array([np.sum(diffs*X[:,i]) for i in range(self.n_vars)])\n",
    "        dLdb = 2*np.sum(diffs)/m\n",
    "        return dLdw, dLdb\n",
    "\n",
    "def create_polynomial_data(X, order=3):\n",
    "    new_dataset = np.array([X, *[np.power(X, i) for i in range(2, order + 1)]]).T\n",
    "    return new_dataset #new_dataset should be shape [m, order]"
   ]
  },
  {
   "cell_type": "code",
   "execution_count": 126,
   "metadata": {},
   "outputs": [],
   "source": [
    "num_epochs = 200\n",
    "learning_rate = 0.001\n",
    "highest_order_power = 4\n",
    "\n",
    "X_polynomial_augmented = create_polynomial_data(X, highest_order_power)#need normalization to put higher coefficient variables on the same order of magnitude as the others\n",
    "H = MultiVariableLinearHypothesis(n_vars=highest_order_power)"
   ]
  },
  {
   "cell_type": "code",
   "execution_count": 127,
   "metadata": {},
   "outputs": [
    {
     "name": "stdout",
     "output_type": "stream",
     "text": [
      "Final cost: 0.6791535296855508\n",
      "Weight values: [-0.4796617   0.43663849 -1.32676357 -0.45594331]\n",
      "Bias values: 0.019076457204201924\n"
     ]
    },
    {
     "data": {
      "text/plain": [
       "(0.6791535296855508,\n",
       " array([-0.4796617 ,  0.43663849, -1.32676357, -0.45594331]))"
      ]
     },
     "execution_count": 127,
     "metadata": {},
     "output_type": "execute_result"
    },
    {
     "data": {
      "image/png": "[encoded data removed]",
      "text/plain": [
       "<Figure size 432x288 with 1 Axes>"
      ]
     },
     "metadata": {
      "needs_background": "light"
     },
     "output_type": "display_data"
    }
   ],
   "source": [
    "train(num_epochs, X_polynomial_augmented, Y, H, L, plot_cost_curve=True)"
   ]
  },
  {
   "cell_type": "code",
   "execution_count": 128,
   "metadata": {},
   "outputs": [
    {
     "data": {
      "image/png": "[encoded data removed]",
      "text/plain": [
       "<Figure size 432x288 with 1 Axes>"
      ]
     },
     "metadata": {
      "needs_background": "light"
     },
     "output_type": "display_data"
    }
   ],
   "source": [
    "plot_h_vs_y(X, H(X_polynomial_augmented), Y)"
   ]
  },
  {
   "cell_type": "markdown",
   "metadata": {},
   "source": [
    "### Data Normalization"
   ]
  },
  {
   "cell_type": "markdown",
   "metadata": {},
   "source": [
    "As we run the train function with higher order polynomial inputs, we often get NaN errors. Lets examine why this happens.\n",
    "\n",
    "When we square, cube, etc our original feature, the new features will have a much higher mean. Because the derivative of our cost w.r.t a particular weight is proportional to the value of that feature, the derivatives for the weight will be extremely high. This will lead to huge steps along that weight and even higher gradients. This cycle continues until our gradients have exploded to NaN.\n",
    "\n",
    "In order to solve this problem, we must normalize each of our input features to put them on the same order of magnitude. We do this by subtracting the mean then dividing by the standard deviation.\n",
    "\n",
    "![title](images/NN1_normalisation.JPG)\n",
    "\n",
    "Complete the function below which normalizes our dataset along each feature."
   ]
  },
  {
   "cell_type": "code",
   "execution_count": 149,
   "metadata": {},
   "outputs": [],
   "source": [
    "def normalize_data(dataset):\n",
    "    mean = np.mean(dataset, axis=0)\n",
    "    std = np.std(dataset, axis=0)\n",
    "    normalized_dataset = (dataset - mean) / std\n",
    "    return normalized_dataset"
   ]
  },
  {
   "cell_type": "code",
   "execution_count": 150,
   "metadata": {},
   "outputs": [],
   "source": [
    "num_epochs = 200\n",
    "learning_rate = 0.01\n",
    "highest_order_power = 20\n",
    "\n",
    "X_polynomial_augmented = create_polynomial_data(X, highest_order_power)\n",
    "X_normalized = normalize_data(X_polynomial_augmented)\n",
    "H = MultiVariableLinearHypothesis(n_vars=highest_order_power)"
   ]
  },
  {
   "cell_type": "code",
   "execution_count": 151,
   "metadata": {},
   "outputs": [
    {
     "name": "stdout",
     "output_type": "stream",
     "text": [
      "Final cost: 0.11395568864039021\n",
      "Weight values: [-0.66903804 -1.71897148 -1.88303004  0.21490848 -0.88728627 -0.27692026\n",
      " -1.28783328 -0.41068699 -1.69715455  1.32546713  0.502773   -1.20757183\n",
      "  1.33179115  0.35710288 -0.17156203 -1.12580126  0.59981964  0.47244464\n",
      " -0.6293513  -0.05858477]\n",
      "Bias values: -0.43370263921784674\n"
     ]
    },
    {
     "data": {
      "text/plain": [
       "(0.11395568864039021,\n",
       " array([-0.66903804, -1.71897148, -1.88303004,  0.21490848, -0.88728627,\n",
       "        -0.27692026, -1.28783328, -0.41068699, -1.69715455,  1.32546713,\n",
       "         0.502773  , -1.20757183,  1.33179115,  0.35710288, -0.17156203,\n",
       "        -1.12580126,  0.59981964,  0.47244464, -0.6293513 , -0.05858477]))"
      ]
     },
     "execution_count": 151,
     "metadata": {},
     "output_type": "execute_result"
    },
    {
     "data": {
      "image/png": "[encoded data removed]",
      "text/plain": [
       "<Figure size 432x288 with 1 Axes>"
      ]
     },
     "metadata": {
      "needs_background": "light"
     },
     "output_type": "display_data"
    }
   ],
   "source": [
    "train(num_epochs, X_normalized, Y, H, L, plot_cost_curve=True)"
   ]
  },
  {
   "cell_type": "code",
   "execution_count": 152,
   "metadata": {},
   "outputs": [
    {
     "data": {
      "image/png": "[encoded data removed]",
      "text/plain": [
       "<Figure size 432x288 with 1 Axes>"
      ]
     },
     "metadata": {
      "needs_background": "light"
     },
     "output_type": "display_data"
    }
   ],
   "source": [
    "plot_h_vs_y(X, H(X_normalized), Y)"
   ]
  },
  {
   "cell_type": "markdown",
   "metadata": {},
   "source": [
    "### Testing Generalisation\n",
    "\n",
    "We build machine learning algorithms to make predictions. So far, we have been testing our algorithm on data points it has already seen but the real measure of success in machine learning is when we can make correct predictions on samples that the algorithm has not seen yet. So lets make a function which will generate us test data by sampling from the same distribution as the training set."
   ]
  },
  {
   "cell_type": "code",
   "execution_count": null,
   "metadata": {},
   "outputs": [],
   "source": [
    "def sample_more_polynomial_data(coeffs, m_test=20, rng=3):\n",
    "    poly_func = np.vectorize(Polynomial(coeffs))\n",
    "    X = np.random.randn(m_test)*rng\n",
    "    Y = poly_func(X)\n",
    "    return X, Y#returns X (the input), Y (labels)\n",
    "\n",
    "m_test = 20\n",
    "X_test, Y_test = sample_more_polynomial_data(ground_truth_coeffs, m_test)\n",
    "print('X:',X_test, '\\n')\n",
    "print('Y:',Y_test, '\\n')\n",
    "plot_data(X_test, Y_test)"
   ]
  },
  {
   "cell_type": "code",
   "execution_count": null,
   "metadata": {},
   "outputs": [],
   "source": [
    "X_test_polynomial_augmented = create_polynomial_data(X, highest_order_power)\n",
    "X_test_normalized = normalize_data(X_polynomial_augmented)\n",
    "plot_h_vs_y(X, H(X_test_normalized), Y)"
   ]
  },
  {
   "cell_type": "markdown",
   "metadata": {},
   "source": [
    "### Overfitting - need for regularisation"
   ]
  },
  {
   "cell_type": "markdown",
   "metadata": {},
   "source": [
    "Sometimes, we have the opposite problem to high bias. That is, our model's capacity is so high that it can easily fit all the points perfectly but can't extrapolate well. This is called high variance. To reduce this, we can either reduce the capacity of our model or introduce regularization.\n",
    "\n",
    "![title](images/NN1_variance.JPG)\n",
    "\n",
    "Regulatization is anything that biases our algorithm towards a subset of all possible parameters. In this case, we bias the values towards 0. This encourages the coeffecients of all features 0 if they are not contributing to significantly reducing the cost. In this case, we should see lower values for coefficients of high order features.\n",
    "\n",
    "![title](images/NN1_regularization.JPG)\n",
    "\n",
    "Complete the calc_deriv function below to calculate the derivative for our weights with regularization. Use the class property set on intialization called regularization_factor in your calculations."
   ]
  },
  {
   "cell_type": "code",
   "execution_count": 87,
   "metadata": {},
   "outputs": [],
   "source": [
    "class MultiVariableLinearHypothesis:\n",
    "    def __init__(self, n_vars, regularization_factor=0):\n",
    "        self.regularization_factor = regularization_factor\n",
    "        self.n_vars = n_vars\n",
    "        self.b = np.random.randn()\n",
    "        self.w = np.random.randn(n_vars)\n",
    "    def __call__(self, X): #input is of shape (n_datapoints, n_vars)\n",
    "        y_hat = np.matmul(X, self.w) + self.b\n",
    "        return y_hat #output is of shape (n_datapoints, 1)\n",
    "    def update_params(self, new_w, new_b):\n",
    "        self.w = new_w\n",
    "        self.b = new_b\n",
    "    def calc_deriv(self, X, y_hat, labels):\n",
    "        diffs = y_hat-labels\n",
    "        dLdw = ##\n",
    "        dLdb = 2*np.sum(diffs)/m\n",
    "        return dLdw, dLdb"
   ]
  },
  {
   "cell_type": "code",
   "execution_count": 119,
   "metadata": {},
   "outputs": [],
   "source": [
    "num_epochs = 1000\n",
    "learning_rate = 0.03\n",
    "highest_order_power = 20\n",
    "regularization_factor = 0.1\n",
    "\n",
    "X_polynomial_augmented = create_polynomial_data(X, highest_order_power)\n",
    "X_normalized = normalize_data(X_polynomial_augmented)\n",
    "H = MultiVariableLinearHypothesis(n_vars=highest_order_power, regularization_factor=regularization_factor)"
   ]
  },
  {
   "cell_type": "code",
   "execution_count": null,
   "metadata": {},
   "outputs": [],
   "source": [
    "train(num_epochs, X_normalized, Y, H, L)"
   ]
  },
  {
   "cell_type": "code",
   "execution_count": null,
   "metadata": {},
   "outputs": [],
   "source": [
    "plot_h_vs_y(X, H(X_normalized), Y)"
   ]
  },
  {
   "cell_type": "code",
   "execution_count": null,
   "metadata": {},
   "outputs": [],
   "source": [
    "plot_h_vs_y(X, H(X_test_normalized), Y)"
   ]
  }
 ],
 "metadata": {
  "kernelspec": {
   "display_name": "Python 3",
   "language": "python",
   "name": "python3"
  },
  "language_info": {
   "codemirror_mode": {
    "name": "ipython",
    "version": 3
   },
   "file_extension": ".py",
   "mimetype": "text/x-python",
   "name": "python",
   "nbconvert_exporter": "python",
   "pygments_lexer": "ipython3",
   "version": "3.7.4"
  }
 },
 "nbformat": 4,
 "nbformat_minor": 2
}
